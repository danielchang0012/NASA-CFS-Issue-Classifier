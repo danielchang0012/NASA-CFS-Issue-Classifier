{
 "cells": [
  {
   "cell_type": "code",
   "execution_count": 8,
   "id": "a691696c",
   "metadata": {},
   "outputs": [],
   "source": [
    "import logging\n",
    "from ekphrasis.classes.preprocessor import TextPreProcessor\n",
    "from ekphrasis.classes.tokenizer import SocialTokenizer\n",
    "from ekphrasis.dicts.emoticons import emoticons\n",
    "from sklearn.preprocessing import LabelEncoder\n",
    "import re\n",
    "import pandas as pd\n",
    "import os\n",
    "from tqdm import tqdm\n",
    "import signal\n",
    "import numpy as np\n",
    "import glob\n",
    "from pathlib import Path"
   ]
  },
  {
   "cell_type": "code",
   "execution_count": 9,
   "id": "043d0872",
   "metadata": {},
   "outputs": [],
   "source": [
    "test_dir = '/Users/jchang15/scrape_issues/issues'\n",
    "\n",
    "# Define label mapping\n",
    "label2int = {\n",
    "    \"bug\": 0,\n",
    "    \"documentation\" : 1,\n",
    "    \"docs\" : 1, \n",
    "    \"enhancement\" : 2,\n",
    "    \"feature\" : 2, \n",
    "    \"question\" : 3,\n",
    "}"
   ]
  },
  {
   "cell_type": "code",
   "execution_count": 10,
   "id": "c58f1d9d",
   "metadata": {},
   "outputs": [],
   "source": [
    "image_regex = re.compile('!\\[(.*)\\]\\(.*\\)')\n",
    "link_regex_1 = re.compile('\\[(.*)\\]\\(.*\\)')\n",
    "link_regex_2 = re.compile('\\[(.*)\\]: [^\\s]+')\n",
    "code_regex = re.compile('(:?`[^`]+`|```[^`]*```)')\n",
    "\n",
    "def preprocess_raw(directory = '.', output_filepath=''):\n",
    "    \"\"\" preprocesses defect report raw data (data/raw) and saves it (data/processed)\n",
    "    \"\"\"\n",
    "    logger = logging.getLogger(__name__)\n",
    "    logger.info('preprocessing data set from raw data')\n",
    "    \n",
    "    unlabeled_df_all = None\n",
    "    labeled_df_all = None\n",
    "    \n",
    "    for file in glob.glob(os.path.join(directory, '*')):\n",
    "    \n",
    "        df = pd.read_csv(file)\n",
    "\n",
    "        unlabeled_df, labeled_df = preprocess_rows(df)\n",
    "\n",
    "        unlabeled_df.replace({pd.NA: np.nan, '': np.nan}, inplace=True)\n",
    "        labeled_df.replace({pd.NA: np.nan, '': np.nan}, inplace=True)\n",
    "\n",
    "        unlabeled_df.dropna(subset=['text'], inplace=True)\n",
    "        labeled_df.dropna(subset=['text'], inplace=True)\n",
    "\n",
    "        unlabeled_df.to_csv(os.path.join(output_filepath + '_unlabeled', Path(file).stem) + '.csv', index=False)\n",
    "            \n",
    "        unlabeled_df_all = unlabeled_df if unlabeled_df_all is None else pd.concat([unlabeled_df_all, unlabeled_df], ignore_index=True)\n",
    "        \n",
    "        labeled_df.to_csv(os.path.join(output_filepath + '_labeled', Path(file).stem + '_labeled.csv'), index=False)\n",
    "        \n",
    "        labeled_df_all = labeled_df if labeled_df_all is None else pd.concat([labeled_df_all, labeled_df], ignore_index=True)\n",
    "         \n",
    "    unlabeled_df_all.to_csv(os.path.join(output_filepath + '_unlabeled', 'all_unlabeled.csv'), index=False)\n",
    "        \n",
    "    labeled_df_all.to_csv(os.path.join(output_filepath + '_labeled', 'all_labeled.csv'), index=False)\n",
    "    \n",
    "        \n",
    "    \n",
    "    \n",
    "\n",
    "\n",
    "def get_ekphrasis_preprocessor():\n",
    "    return TextPreProcessor(\n",
    "    # terms that will be normalized\n",
    "    normalize=['url', 'email', 'percent', 'money', 'phone', 'user',\n",
    "        'time', 'url', 'date', 'number'],\n",
    "    # terms that will be annotated\n",
    "    annotate={\"hashtag\", \"allcaps\", \"elongated\", \"repeated\",\n",
    "        'censored'},\n",
    "    fix_html=True,  # fix HTML tokens\n",
    "    \n",
    "    # corpus from which the word statistics are going to be used \n",
    "    # for word segmentation \n",
    "    segmenter=\"twitter\", \n",
    "    \n",
    "    # corpus from which the word statistics are going to be used \n",
    "    # for spell correction\n",
    "    corrector=\"twitter\", \n",
    "    \n",
    "    unpack_hashtags=True,  # perform word segmentation on hashtags\n",
    "    unpack_contractions=True,  # Unpack contractions (can't -> can not)\n",
    "    spell_correct_elong=False,  # spell correction for elongated words\n",
    "    \n",
    "    # select a tokenizer. You can use SocialTokenizer, or pass your own\n",
    "    # the tokenizer, should take as input a string and return a list of tokens\n",
    "    tokenizer=SocialTokenizer(lowercase=True).tokenize,\n",
    "    \n",
    "    # list of dictionaries, for replacing tokens extracted from the text,\n",
    "    # with other expressions. You can pass more than one dictionaries.\n",
    "    dicts=[emoticons]\n",
    "    )\n",
    "\n",
    "def preprocess_rows(df):\n",
    "    logger = logging.getLogger(__name__)\n",
    "    logger.info('started preprocessing rows')\n",
    "\n",
    "    df = df.fillna({\n",
    "                        'Title': '',\n",
    "                        'Body': '',\n",
    "                        'Labels': ''\n",
    "                   })\n",
    "    df['text'] = df['Title'] + ' ' + df['Body']\n",
    "    \n",
    "    unlabeled_df = df[~df[\"Labels\"].str.contains(\"bug|documentation|docs|question|enhancement|feature\", regex=True)]\n",
    "    labeled_df = df[df[\"Labels\"].str.contains(\"bug|documentation|docs|question|enhancement|feature\", regex=True)]\n",
    "    \n",
    "    \n",
    "    labels = []\n",
    "    for i, label in enumerate(labeled_df['Labels']):\n",
    "#         appear = False\n",
    "        if \"bug\" in label:\n",
    "            labels.append(\"bug\")\n",
    "#             if appear is False:\n",
    "#                 appear = True\n",
    "#             else: raise Exception(label + str(i))\n",
    "        \n",
    "        elif \"doc\" in label:\n",
    "            labels.append(\"documentation\")\n",
    "                \n",
    "        elif \"question\" in label:\n",
    "            labels.append(\"question\")\n",
    "                \n",
    "        elif \"enhancement\" in label:\n",
    "            labels.append(\"enhancement\")\n",
    "                \n",
    "        elif \"feature\" in label:\n",
    "            labels.append(\"feature\")\n",
    "        \n",
    "    labeled_df['Labels'] = labels    \n",
    "    labeled_df[\"label\"] = labeled_df['Labels'].map(label2int).tolist()\n",
    "    \n",
    "    unlabeled_df = unlabeled_df.drop([\"Labels\"], axis=1)\n",
    "    labeled_df = labeled_df.drop([\"Labels\"], axis=1)\n",
    "    \n",
    "    unlabeled_df = unlabeled_df.filter(['text', 'label'])\n",
    "    labeled_df = labeled_df.filter(['text', 'label'])\n",
    "    text_processor = get_ekphrasis_preprocessor()\n",
    "    unlabeled_df['text'] = [clean_text(text, text_processor) for text in tqdm(unlabeled_df['text'])]\n",
    "    labeled_df['text'] = [clean_text(text, text_processor) for text in tqdm(labeled_df['text'])]\n",
    "    return unlabeled_df, labeled_df\n",
    "\n",
    "class TimeoutException(Exception):   # Custom exception class\n",
    "    pass\n",
    "\n",
    "def timeout_handler(signum, frame):   # Custom signal handler\n",
    "    raise TimeoutException\n",
    "\n",
    "def clean_text(text, text_processor):\n",
    "    \n",
    "    #bar.set_description('regex')\n",
    "    cleaned = text\n",
    "    cleaned = cleaned.replace('**Checklist**', ' ')\n",
    "    cleaned = re.sub(r\"\\* \\[x\\] .+\\s\", \" \", cleaned)\n",
    "    cleaned = re.sub(r\"\\*{2}Checklist.+\\*{2}\", \" \", cleaned)\n",
    "    cleaned = re.sub(r\"\\*{2}.+\\*{2}\",\"<section>\", cleaned)\n",
    "    cleaned = re.sub(image_regex, r'\\1 <img>', cleaned)\n",
    "    cleaned = re.sub(link_regex_1, r'\\1 <url>', cleaned)\n",
    "    cleaned = re.sub(link_regex_2, r'\\1 <url>', cleaned)\n",
    "    cleaned = re.sub(code_regex, '<code>', cleaned)\n",
    "    \n",
    "    \n",
    "#     cleaned = cleaned.replace('**Describe the contribution**', '')\n",
    "#     cleaned = cleaned.replace('**Checklist**', '')\n",
    "#     cleaned = cleaned.replace('**Testing Performed**', '')\n",
    "#     cleaned = cleaned.replace('**Expected Behavior Changes**', '')\n",
    "#     cleaned = cleaned.replace('**Contributor Info**', '')\n",
    "    \n",
    "#     cleaned = cleaned.replace('**Describe the bug**', '')\n",
    "#     cleaned = cleaned.replace('**Expected Behavior**', '')\n",
    "#     cleaned = cleaned.replace('**Reporter Info**', '')\n",
    "#     cleaned = cleaned.replace('**Checklist (Please check before submitting)**', '')\n",
    "#     cleaned = cleaned.replace('**System(s) tested on**', '')\n",
    "#     cleaned = cleaned.replace('**Additional context**', '')\n",
    "#     cleaned = cleaned.replace('**Contributor Info**', '')\n",
    "    \n",
    "    #bar.set_description('ekph')\n",
    "    signal.signal(signal.SIGALRM, timeout_handler)\n",
    "    \n",
    "    signal.alarm(5)\n",
    "    \n",
    "    try:\n",
    "        cleaned = \" \".join(text_processor.pre_process_doc(cleaned))\n",
    "    except (RecursionError, TimeoutException):\n",
    "        cleaned = pd.NA\n",
    "    else:\n",
    "        signal.alarm(0)\n",
    "    #bar.set_description('end')\n",
    "    return cleaned"
   ]
  },
  {
   "cell_type": "code",
   "execution_count": 11,
   "id": "060f2e04",
   "metadata": {
    "scrolled": true
   },
   "outputs": [
    {
     "name": "stderr",
     "output_type": "stream",
     "text": [
      "2023-08-14 18:15:03,005 - __main__ - INFO - making final data set from raw data\n",
      "2023-08-14 18:15:03,008 - __main__ - INFO - preprocessing data set from raw data\n",
      "2023-08-14 18:15:03,021 - __main__ - INFO - started preprocessing rows\n",
      "/var/folders/4k/87j4hn2j03n09bmstrxm08bc0000gp/T/ipykernel_23322/1541612091.py:111: SettingWithCopyWarning: \n",
      "A value is trying to be set on a copy of a slice from a DataFrame.\n",
      "Try using .loc[row_indexer,col_indexer] = value instead\n",
      "\n",
      "See the caveats in the documentation: https://pandas.pydata.org/pandas-docs/stable/user_guide/indexing.html#returning-a-view-versus-a-copy\n",
      "  labeled_df['Labels'] = labels\n",
      "/var/folders/4k/87j4hn2j03n09bmstrxm08bc0000gp/T/ipykernel_23322/1541612091.py:112: SettingWithCopyWarning: \n",
      "A value is trying to be set on a copy of a slice from a DataFrame.\n",
      "Try using .loc[row_indexer,col_indexer] = value instead\n",
      "\n",
      "See the caveats in the documentation: https://pandas.pydata.org/pandas-docs/stable/user_guide/indexing.html#returning-a-view-versus-a-copy\n",
      "  labeled_df[\"label\"] = labeled_df['Labels'].map(label2int).tolist()\n"
     ]
    },
    {
     "name": "stdout",
     "output_type": "stream",
     "text": [
      "Reading twitter - 1grams ...\n",
      "Reading twitter - 2grams ...\n",
      "Reading twitter - 1grams ...\n"
     ]
    },
    {
     "name": "stderr",
     "output_type": "stream",
     "text": [
      "100%|█████████████████████████████████████████| 64/64 [00:00<00:00, 1496.07it/s]\n",
      "100%|█████████████████████████████████████████| 30/30 [00:00<00:00, 1532.97it/s]\n",
      "2023-08-14 18:15:05,202 - __main__ - INFO - started preprocessing rows\n"
     ]
    },
    {
     "name": "stdout",
     "output_type": "stream",
     "text": [
      "Reading twitter - 1grams ...\n",
      "Reading twitter - 2grams ...\n"
     ]
    },
    {
     "name": "stderr",
     "output_type": "stream",
     "text": [
      "/var/folders/4k/87j4hn2j03n09bmstrxm08bc0000gp/T/ipykernel_23322/1541612091.py:111: SettingWithCopyWarning: \n",
      "A value is trying to be set on a copy of a slice from a DataFrame.\n",
      "Try using .loc[row_indexer,col_indexer] = value instead\n",
      "\n",
      "See the caveats in the documentation: https://pandas.pydata.org/pandas-docs/stable/user_guide/indexing.html#returning-a-view-versus-a-copy\n",
      "  labeled_df['Labels'] = labels\n",
      "/var/folders/4k/87j4hn2j03n09bmstrxm08bc0000gp/T/ipykernel_23322/1541612091.py:112: SettingWithCopyWarning: \n",
      "A value is trying to be set on a copy of a slice from a DataFrame.\n",
      "Try using .loc[row_indexer,col_indexer] = value instead\n",
      "\n",
      "See the caveats in the documentation: https://pandas.pydata.org/pandas-docs/stable/user_guide/indexing.html#returning-a-view-versus-a-copy\n",
      "  labeled_df[\"label\"] = labeled_df['Labels'].map(label2int).tolist()\n"
     ]
    },
    {
     "name": "stdout",
     "output_type": "stream",
     "text": [
      "Reading twitter - 1grams ...\n"
     ]
    },
    {
     "name": "stderr",
     "output_type": "stream",
     "text": [
      "100%|█████████████████████████████████████████| 46/46 [00:00<00:00, 1471.71it/s]\n",
      "100%|█████████████████████████████████████████| 12/12 [00:00<00:00, 1932.34it/s]\n",
      "2023-08-14 18:15:07,452 - __main__ - INFO - started preprocessing rows\n"
     ]
    },
    {
     "name": "stdout",
     "output_type": "stream",
     "text": [
      "Reading twitter - 1grams ...\n",
      "Reading twitter - 2grams ...\n"
     ]
    },
    {
     "name": "stderr",
     "output_type": "stream",
     "text": [
      "/var/folders/4k/87j4hn2j03n09bmstrxm08bc0000gp/T/ipykernel_23322/1541612091.py:111: SettingWithCopyWarning: \n",
      "A value is trying to be set on a copy of a slice from a DataFrame.\n",
      "Try using .loc[row_indexer,col_indexer] = value instead\n",
      "\n",
      "See the caveats in the documentation: https://pandas.pydata.org/pandas-docs/stable/user_guide/indexing.html#returning-a-view-versus-a-copy\n",
      "  labeled_df['Labels'] = labels\n",
      "/var/folders/4k/87j4hn2j03n09bmstrxm08bc0000gp/T/ipykernel_23322/1541612091.py:112: SettingWithCopyWarning: \n",
      "A value is trying to be set on a copy of a slice from a DataFrame.\n",
      "Try using .loc[row_indexer,col_indexer] = value instead\n",
      "\n",
      "See the caveats in the documentation: https://pandas.pydata.org/pandas-docs/stable/user_guide/indexing.html#returning-a-view-versus-a-copy\n",
      "  labeled_df[\"label\"] = labeled_df['Labels'].map(label2int).tolist()\n"
     ]
    },
    {
     "name": "stdout",
     "output_type": "stream",
     "text": [
      "Reading twitter - 1grams ...\n"
     ]
    },
    {
     "name": "stderr",
     "output_type": "stream",
     "text": [
      "100%|█████████████████████████████████████████| 36/36 [00:00<00:00, 2432.97it/s]\n",
      "100%|██████████████████████████████████████████| 25/25 [00:00<00:00, 407.83it/s]\n",
      "2023-08-14 18:15:09,674 - __main__ - INFO - started preprocessing rows\n"
     ]
    },
    {
     "name": "stdout",
     "output_type": "stream",
     "text": [
      "Reading twitter - 1grams ...\n",
      "Reading twitter - 2grams ...\n",
      "Reading twitter - 1grams ...\n"
     ]
    },
    {
     "name": "stderr",
     "output_type": "stream",
     "text": [
      "100%|████████████████████████████████████████| 102/102 [00:00<00:00, 838.82it/s]\n",
      "0it [00:00, ?it/s]\n",
      "2023-08-14 18:15:11,974 - __main__ - INFO - started preprocessing rows\n"
     ]
    },
    {
     "name": "stdout",
     "output_type": "stream",
     "text": [
      "Reading twitter - 1grams ...\n",
      "Reading twitter - 2grams ...\n",
      "Reading twitter - 1grams ...\n"
     ]
    },
    {
     "name": "stderr",
     "output_type": "stream",
     "text": [
      "100%|███████████████████████████████████████████| 1/1 [00:00<00:00, 2730.67it/s]\n",
      "0it [00:00, ?it/s]\n",
      "2023-08-14 18:15:14,155 - __main__ - INFO - started preprocessing rows\n"
     ]
    },
    {
     "name": "stdout",
     "output_type": "stream",
     "text": [
      "Reading twitter - 1grams ...\n",
      "Reading twitter - 2grams ...\n"
     ]
    },
    {
     "name": "stderr",
     "output_type": "stream",
     "text": [
      "/var/folders/4k/87j4hn2j03n09bmstrxm08bc0000gp/T/ipykernel_23322/1541612091.py:111: SettingWithCopyWarning: \n",
      "A value is trying to be set on a copy of a slice from a DataFrame.\n",
      "Try using .loc[row_indexer,col_indexer] = value instead\n",
      "\n",
      "See the caveats in the documentation: https://pandas.pydata.org/pandas-docs/stable/user_guide/indexing.html#returning-a-view-versus-a-copy\n",
      "  labeled_df['Labels'] = labels\n",
      "/var/folders/4k/87j4hn2j03n09bmstrxm08bc0000gp/T/ipykernel_23322/1541612091.py:112: SettingWithCopyWarning: \n",
      "A value is trying to be set on a copy of a slice from a DataFrame.\n",
      "Try using .loc[row_indexer,col_indexer] = value instead\n",
      "\n",
      "See the caveats in the documentation: https://pandas.pydata.org/pandas-docs/stable/user_guide/indexing.html#returning-a-view-versus-a-copy\n",
      "  labeled_df[\"label\"] = labeled_df['Labels'].map(label2int).tolist()\n"
     ]
    },
    {
     "name": "stdout",
     "output_type": "stream",
     "text": [
      "Reading twitter - 1grams ...\n"
     ]
    },
    {
     "name": "stderr",
     "output_type": "stream",
     "text": [
      "100%|██████████████████████████████████████████| 61/61 [00:00<00:00, 284.87it/s]\n",
      "100%|█████████████████████████████████████████| 39/39 [00:00<00:00, 1535.38it/s]\n",
      "2023-08-14 18:15:16,652 - __main__ - INFO - started preprocessing rows\n",
      "/var/folders/4k/87j4hn2j03n09bmstrxm08bc0000gp/T/ipykernel_23322/1541612091.py:111: SettingWithCopyWarning: \n",
      "A value is trying to be set on a copy of a slice from a DataFrame.\n",
      "Try using .loc[row_indexer,col_indexer] = value instead\n",
      "\n",
      "See the caveats in the documentation: https://pandas.pydata.org/pandas-docs/stable/user_guide/indexing.html#returning-a-view-versus-a-copy\n",
      "  labeled_df['Labels'] = labels\n",
      "/var/folders/4k/87j4hn2j03n09bmstrxm08bc0000gp/T/ipykernel_23322/1541612091.py:112: SettingWithCopyWarning: \n",
      "A value is trying to be set on a copy of a slice from a DataFrame.\n",
      "Try using .loc[row_indexer,col_indexer] = value instead\n",
      "\n",
      "See the caveats in the documentation: https://pandas.pydata.org/pandas-docs/stable/user_guide/indexing.html#returning-a-view-versus-a-copy\n",
      "  labeled_df[\"label\"] = labeled_df['Labels'].map(label2int).tolist()\n"
     ]
    },
    {
     "name": "stdout",
     "output_type": "stream",
     "text": [
      "Reading twitter - 1grams ...\n",
      "Reading twitter - 2grams ...\n",
      "Reading twitter - 1grams ...\n"
     ]
    },
    {
     "name": "stderr",
     "output_type": "stream",
     "text": [
      "100%|████████████████████████████████████████| 338/338 [00:00<00:00, 954.02it/s]\n",
      "100%|███████████████████████████████████████| 168/168 [00:00<00:00, 1290.13it/s]\n",
      "2023-08-14 18:15:19,379 - __main__ - INFO - started preprocessing rows\n",
      "/var/folders/4k/87j4hn2j03n09bmstrxm08bc0000gp/T/ipykernel_23322/1541612091.py:111: SettingWithCopyWarning: \n",
      "A value is trying to be set on a copy of a slice from a DataFrame.\n",
      "Try using .loc[row_indexer,col_indexer] = value instead\n",
      "\n",
      "See the caveats in the documentation: https://pandas.pydata.org/pandas-docs/stable/user_guide/indexing.html#returning-a-view-versus-a-copy\n",
      "  labeled_df['Labels'] = labels\n",
      "/var/folders/4k/87j4hn2j03n09bmstrxm08bc0000gp/T/ipykernel_23322/1541612091.py:112: SettingWithCopyWarning: \n",
      "A value is trying to be set on a copy of a slice from a DataFrame.\n",
      "Try using .loc[row_indexer,col_indexer] = value instead\n",
      "\n",
      "See the caveats in the documentation: https://pandas.pydata.org/pandas-docs/stable/user_guide/indexing.html#returning-a-view-versus-a-copy\n",
      "  labeled_df[\"label\"] = labeled_df['Labels'].map(label2int).tolist()\n"
     ]
    },
    {
     "name": "stdout",
     "output_type": "stream",
     "text": [
      "Reading twitter - 1grams ...\n",
      "Reading twitter - 2grams ...\n",
      "Reading twitter - 1grams ...\n"
     ]
    },
    {
     "name": "stderr",
     "output_type": "stream",
     "text": [
      "100%|███████████████████████████████████████████| 1/1 [00:00<00:00, 1995.39it/s]\n",
      "100%|███████████████████████████████████████████| 1/1 [00:00<00:00, 5184.55it/s]\n",
      "2023-08-14 18:15:21,657 - __main__ - INFO - started preprocessing rows\n"
     ]
    },
    {
     "name": "stdout",
     "output_type": "stream",
     "text": [
      "Reading twitter - 1grams ...\n",
      "Reading twitter - 2grams ...\n"
     ]
    },
    {
     "name": "stderr",
     "output_type": "stream",
     "text": [
      "/var/folders/4k/87j4hn2j03n09bmstrxm08bc0000gp/T/ipykernel_23322/1541612091.py:111: SettingWithCopyWarning: \n",
      "A value is trying to be set on a copy of a slice from a DataFrame.\n",
      "Try using .loc[row_indexer,col_indexer] = value instead\n",
      "\n",
      "See the caveats in the documentation: https://pandas.pydata.org/pandas-docs/stable/user_guide/indexing.html#returning-a-view-versus-a-copy\n",
      "  labeled_df['Labels'] = labels\n",
      "/var/folders/4k/87j4hn2j03n09bmstrxm08bc0000gp/T/ipykernel_23322/1541612091.py:112: SettingWithCopyWarning: \n",
      "A value is trying to be set on a copy of a slice from a DataFrame.\n",
      "Try using .loc[row_indexer,col_indexer] = value instead\n",
      "\n",
      "See the caveats in the documentation: https://pandas.pydata.org/pandas-docs/stable/user_guide/indexing.html#returning-a-view-versus-a-copy\n",
      "  labeled_df[\"label\"] = labeled_df['Labels'].map(label2int).tolist()\n"
     ]
    },
    {
     "name": "stdout",
     "output_type": "stream",
     "text": [
      "Reading twitter - 1grams ...\n"
     ]
    },
    {
     "name": "stderr",
     "output_type": "stream",
     "text": [
      "100%|█████████████████████████████████████████| 46/46 [00:00<00:00, 1186.70it/s]\n",
      "100%|█████████████████████████████████████████| 10/10 [00:00<00:00, 1886.01it/s]\n",
      "2023-08-14 18:15:23,829 - __main__ - INFO - started preprocessing rows\n"
     ]
    },
    {
     "name": "stdout",
     "output_type": "stream",
     "text": [
      "Reading twitter - 1grams ...\n",
      "Reading twitter - 2grams ...\n"
     ]
    },
    {
     "name": "stderr",
     "output_type": "stream",
     "text": [
      "/var/folders/4k/87j4hn2j03n09bmstrxm08bc0000gp/T/ipykernel_23322/1541612091.py:111: SettingWithCopyWarning: \n",
      "A value is trying to be set on a copy of a slice from a DataFrame.\n",
      "Try using .loc[row_indexer,col_indexer] = value instead\n",
      "\n",
      "See the caveats in the documentation: https://pandas.pydata.org/pandas-docs/stable/user_guide/indexing.html#returning-a-view-versus-a-copy\n",
      "  labeled_df['Labels'] = labels\n",
      "/var/folders/4k/87j4hn2j03n09bmstrxm08bc0000gp/T/ipykernel_23322/1541612091.py:112: SettingWithCopyWarning: \n",
      "A value is trying to be set on a copy of a slice from a DataFrame.\n",
      "Try using .loc[row_indexer,col_indexer] = value instead\n",
      "\n",
      "See the caveats in the documentation: https://pandas.pydata.org/pandas-docs/stable/user_guide/indexing.html#returning-a-view-versus-a-copy\n",
      "  labeled_df[\"label\"] = labeled_df['Labels'].map(label2int).tolist()\n"
     ]
    },
    {
     "name": "stdout",
     "output_type": "stream",
     "text": [
      "Reading twitter - 1grams ...\n"
     ]
    },
    {
     "name": "stderr",
     "output_type": "stream",
     "text": [
      "100%|█████████████████████████████████████████| 53/53 [00:00<00:00, 1665.84it/s]\n",
      "100%|██████████████████████████████████████████| 25/25 [00:00<00:00, 511.69it/s]\n",
      "2023-08-14 18:15:26,041 - __main__ - INFO - started preprocessing rows\n"
     ]
    },
    {
     "name": "stdout",
     "output_type": "stream",
     "text": [
      "Reading twitter - 1grams ...\n",
      "Reading twitter - 2grams ...\n"
     ]
    },
    {
     "name": "stderr",
     "output_type": "stream",
     "text": [
      "/var/folders/4k/87j4hn2j03n09bmstrxm08bc0000gp/T/ipykernel_23322/1541612091.py:111: SettingWithCopyWarning: \n",
      "A value is trying to be set on a copy of a slice from a DataFrame.\n",
      "Try using .loc[row_indexer,col_indexer] = value instead\n",
      "\n",
      "See the caveats in the documentation: https://pandas.pydata.org/pandas-docs/stable/user_guide/indexing.html#returning-a-view-versus-a-copy\n",
      "  labeled_df['Labels'] = labels\n",
      "/var/folders/4k/87j4hn2j03n09bmstrxm08bc0000gp/T/ipykernel_23322/1541612091.py:112: SettingWithCopyWarning: \n",
      "A value is trying to be set on a copy of a slice from a DataFrame.\n",
      "Try using .loc[row_indexer,col_indexer] = value instead\n",
      "\n",
      "See the caveats in the documentation: https://pandas.pydata.org/pandas-docs/stable/user_guide/indexing.html#returning-a-view-versus-a-copy\n",
      "  labeled_df[\"label\"] = labeled_df['Labels'].map(label2int).tolist()\n"
     ]
    },
    {
     "name": "stdout",
     "output_type": "stream",
     "text": [
      "Reading twitter - 1grams ...\n"
     ]
    },
    {
     "name": "stderr",
     "output_type": "stream",
     "text": [
      "100%|█████████████████████████████████████| 1161/1161 [00:01<00:00, 1030.24it/s]\n",
      "100%|█████████████████████████████████████| 1249/1249 [00:01<00:00, 1147.67it/s]\n",
      "2023-08-14 18:15:30,377 - __main__ - INFO - started preprocessing rows\n",
      "/var/folders/4k/87j4hn2j03n09bmstrxm08bc0000gp/T/ipykernel_23322/1541612091.py:111: SettingWithCopyWarning: \n",
      "A value is trying to be set on a copy of a slice from a DataFrame.\n",
      "Try using .loc[row_indexer,col_indexer] = value instead\n",
      "\n",
      "See the caveats in the documentation: https://pandas.pydata.org/pandas-docs/stable/user_guide/indexing.html#returning-a-view-versus-a-copy\n",
      "  labeled_df['Labels'] = labels\n",
      "/var/folders/4k/87j4hn2j03n09bmstrxm08bc0000gp/T/ipykernel_23322/1541612091.py:112: SettingWithCopyWarning: \n",
      "A value is trying to be set on a copy of a slice from a DataFrame.\n",
      "Try using .loc[row_indexer,col_indexer] = value instead\n",
      "\n",
      "See the caveats in the documentation: https://pandas.pydata.org/pandas-docs/stable/user_guide/indexing.html#returning-a-view-versus-a-copy\n",
      "  labeled_df[\"label\"] = labeled_df['Labels'].map(label2int).tolist()\n"
     ]
    },
    {
     "name": "stdout",
     "output_type": "stream",
     "text": [
      "Reading twitter - 1grams ...\n",
      "Reading twitter - 2grams ...\n",
      "Reading twitter - 1grams ...\n"
     ]
    },
    {
     "name": "stderr",
     "output_type": "stream",
     "text": [
      "100%|█████████████████████████████████████████| 55/55 [00:00<00:00, 1125.62it/s]\n",
      "100%|█████████████████████████████████████████| 38/38 [00:00<00:00, 1686.26it/s]\n",
      "2023-08-14 18:15:32,781 - __main__ - INFO - started preprocessing rows\n"
     ]
    },
    {
     "name": "stdout",
     "output_type": "stream",
     "text": [
      "Reading twitter - 1grams ...\n",
      "Reading twitter - 2grams ...\n",
      "Reading twitter - 1grams ...\n"
     ]
    },
    {
     "name": "stderr",
     "output_type": "stream",
     "text": [
      "100%|███████████████████████████████████████████| 1/1 [00:00<00:00, 3132.42it/s]\n",
      "0it [00:00, ?it/s]\n",
      "2023-08-14 18:15:35,032 - __main__ - INFO - started preprocessing rows\n"
     ]
    },
    {
     "name": "stdout",
     "output_type": "stream",
     "text": [
      "Reading twitter - 1grams ...\n",
      "Reading twitter - 2grams ...\n"
     ]
    },
    {
     "name": "stderr",
     "output_type": "stream",
     "text": [
      "/var/folders/4k/87j4hn2j03n09bmstrxm08bc0000gp/T/ipykernel_23322/1541612091.py:111: SettingWithCopyWarning: \n",
      "A value is trying to be set on a copy of a slice from a DataFrame.\n",
      "Try using .loc[row_indexer,col_indexer] = value instead\n",
      "\n",
      "See the caveats in the documentation: https://pandas.pydata.org/pandas-docs/stable/user_guide/indexing.html#returning-a-view-versus-a-copy\n",
      "  labeled_df['Labels'] = labels\n",
      "/var/folders/4k/87j4hn2j03n09bmstrxm08bc0000gp/T/ipykernel_23322/1541612091.py:112: SettingWithCopyWarning: \n",
      "A value is trying to be set on a copy of a slice from a DataFrame.\n",
      "Try using .loc[row_indexer,col_indexer] = value instead\n",
      "\n",
      "See the caveats in the documentation: https://pandas.pydata.org/pandas-docs/stable/user_guide/indexing.html#returning-a-view-versus-a-copy\n",
      "  labeled_df[\"label\"] = labeled_df['Labels'].map(label2int).tolist()\n"
     ]
    },
    {
     "name": "stdout",
     "output_type": "stream",
     "text": [
      "Reading twitter - 1grams ...\n"
     ]
    },
    {
     "name": "stderr",
     "output_type": "stream",
     "text": [
      "100%|███████████████████████████████████████| 198/198 [00:00<00:00, 1175.25it/s]\n",
      "100%|███████████████████████████████████████| 203/203 [00:00<00:00, 1156.49it/s]\n",
      "2023-08-14 18:15:37,414 - __main__ - INFO - started preprocessing rows\n"
     ]
    },
    {
     "name": "stdout",
     "output_type": "stream",
     "text": [
      "Reading twitter - 1grams ...\n",
      "Reading twitter - 2grams ...\n",
      "Reading twitter - 1grams ...\n"
     ]
    },
    {
     "name": "stderr",
     "output_type": "stream",
     "text": [
      "100%|█████████████████████████████████████████| 26/26 [00:00<00:00, 1056.99it/s]\n",
      "0it [00:00, ?it/s]\n",
      "2023-08-14 18:15:39,534 - __main__ - INFO - started preprocessing rows\n"
     ]
    },
    {
     "name": "stdout",
     "output_type": "stream",
     "text": [
      "Reading twitter - 1grams ...\n",
      "Reading twitter - 2grams ...\n"
     ]
    },
    {
     "name": "stderr",
     "output_type": "stream",
     "text": [
      "/var/folders/4k/87j4hn2j03n09bmstrxm08bc0000gp/T/ipykernel_23322/1541612091.py:111: SettingWithCopyWarning: \n",
      "A value is trying to be set on a copy of a slice from a DataFrame.\n",
      "Try using .loc[row_indexer,col_indexer] = value instead\n",
      "\n",
      "See the caveats in the documentation: https://pandas.pydata.org/pandas-docs/stable/user_guide/indexing.html#returning-a-view-versus-a-copy\n",
      "  labeled_df['Labels'] = labels\n",
      "/var/folders/4k/87j4hn2j03n09bmstrxm08bc0000gp/T/ipykernel_23322/1541612091.py:112: SettingWithCopyWarning: \n",
      "A value is trying to be set on a copy of a slice from a DataFrame.\n",
      "Try using .loc[row_indexer,col_indexer] = value instead\n",
      "\n",
      "See the caveats in the documentation: https://pandas.pydata.org/pandas-docs/stable/user_guide/indexing.html#returning-a-view-versus-a-copy\n",
      "  labeled_df[\"label\"] = labeled_df['Labels'].map(label2int).tolist()\n"
     ]
    },
    {
     "name": "stdout",
     "output_type": "stream",
     "text": [
      "Reading twitter - 1grams ...\n"
     ]
    },
    {
     "name": "stderr",
     "output_type": "stream",
     "text": [
      "100%|█████████████████████████████████████████| 82/82 [00:00<00:00, 1559.11it/s]\n",
      "100%|█████████████████████████████████████████| 50/50 [00:00<00:00, 1701.31it/s]\n",
      "2023-08-14 18:15:41,739 - __main__ - INFO - started preprocessing rows\n"
     ]
    },
    {
     "name": "stdout",
     "output_type": "stream",
     "text": [
      "Reading twitter - 1grams ...\n",
      "Reading twitter - 2grams ...\n"
     ]
    },
    {
     "name": "stderr",
     "output_type": "stream",
     "text": [
      "/var/folders/4k/87j4hn2j03n09bmstrxm08bc0000gp/T/ipykernel_23322/1541612091.py:111: SettingWithCopyWarning: \n",
      "A value is trying to be set on a copy of a slice from a DataFrame.\n",
      "Try using .loc[row_indexer,col_indexer] = value instead\n",
      "\n",
      "See the caveats in the documentation: https://pandas.pydata.org/pandas-docs/stable/user_guide/indexing.html#returning-a-view-versus-a-copy\n",
      "  labeled_df['Labels'] = labels\n",
      "/var/folders/4k/87j4hn2j03n09bmstrxm08bc0000gp/T/ipykernel_23322/1541612091.py:112: SettingWithCopyWarning: \n",
      "A value is trying to be set on a copy of a slice from a DataFrame.\n",
      "Try using .loc[row_indexer,col_indexer] = value instead\n",
      "\n",
      "See the caveats in the documentation: https://pandas.pydata.org/pandas-docs/stable/user_guide/indexing.html#returning-a-view-versus-a-copy\n",
      "  labeled_df[\"label\"] = labeled_df['Labels'].map(label2int).tolist()\n"
     ]
    },
    {
     "name": "stdout",
     "output_type": "stream",
     "text": [
      "Reading twitter - 1grams ...\n"
     ]
    },
    {
     "name": "stderr",
     "output_type": "stream",
     "text": [
      "100%|█████████████████████████████████████████| 83/83 [00:00<00:00, 1536.29it/s]\n",
      "100%|█████████████████████████████████████████| 32/32 [00:00<00:00, 1338.90it/s]\n",
      "2023-08-14 18:15:43,929 - __main__ - INFO - started preprocessing rows\n"
     ]
    },
    {
     "name": "stdout",
     "output_type": "stream",
     "text": [
      "Reading twitter - 1grams ...\n",
      "Reading twitter - 2grams ...\n"
     ]
    },
    {
     "name": "stderr",
     "output_type": "stream",
     "text": [
      "/var/folders/4k/87j4hn2j03n09bmstrxm08bc0000gp/T/ipykernel_23322/1541612091.py:111: SettingWithCopyWarning: \n",
      "A value is trying to be set on a copy of a slice from a DataFrame.\n",
      "Try using .loc[row_indexer,col_indexer] = value instead\n",
      "\n",
      "See the caveats in the documentation: https://pandas.pydata.org/pandas-docs/stable/user_guide/indexing.html#returning-a-view-versus-a-copy\n",
      "  labeled_df['Labels'] = labels\n",
      "/var/folders/4k/87j4hn2j03n09bmstrxm08bc0000gp/T/ipykernel_23322/1541612091.py:112: SettingWithCopyWarning: \n",
      "A value is trying to be set on a copy of a slice from a DataFrame.\n",
      "Try using .loc[row_indexer,col_indexer] = value instead\n",
      "\n",
      "See the caveats in the documentation: https://pandas.pydata.org/pandas-docs/stable/user_guide/indexing.html#returning-a-view-versus-a-copy\n",
      "  labeled_df[\"label\"] = labeled_df['Labels'].map(label2int).tolist()\n"
     ]
    },
    {
     "name": "stdout",
     "output_type": "stream",
     "text": [
      "Reading twitter - 1grams ...\n"
     ]
    },
    {
     "name": "stderr",
     "output_type": "stream",
     "text": [
      "100%|███████████████████████████████████████| 106/106 [00:00<00:00, 1024.01it/s]\n",
      "100%|█████████████████████████████████████████| 52/52 [00:00<00:00, 1529.99it/s]\n",
      "2023-08-14 18:15:46,305 - __main__ - INFO - started preprocessing rows\n"
     ]
    },
    {
     "name": "stdout",
     "output_type": "stream",
     "text": [
      "Reading twitter - 1grams ...\n"
     ]
    },
    {
     "name": "stderr",
     "output_type": "stream",
     "text": [
      "/var/folders/4k/87j4hn2j03n09bmstrxm08bc0000gp/T/ipykernel_23322/1541612091.py:111: SettingWithCopyWarning: \n",
      "A value is trying to be set on a copy of a slice from a DataFrame.\n",
      "Try using .loc[row_indexer,col_indexer] = value instead\n",
      "\n",
      "See the caveats in the documentation: https://pandas.pydata.org/pandas-docs/stable/user_guide/indexing.html#returning-a-view-versus-a-copy\n",
      "  labeled_df['Labels'] = labels\n",
      "/var/folders/4k/87j4hn2j03n09bmstrxm08bc0000gp/T/ipykernel_23322/1541612091.py:112: SettingWithCopyWarning: \n",
      "A value is trying to be set on a copy of a slice from a DataFrame.\n",
      "Try using .loc[row_indexer,col_indexer] = value instead\n",
      "\n",
      "See the caveats in the documentation: https://pandas.pydata.org/pandas-docs/stable/user_guide/indexing.html#returning-a-view-versus-a-copy\n",
      "  labeled_df[\"label\"] = labeled_df['Labels'].map(label2int).tolist()\n"
     ]
    },
    {
     "name": "stdout",
     "output_type": "stream",
     "text": [
      "Reading twitter - 2grams ...\n",
      "Reading twitter - 1grams ...\n"
     ]
    },
    {
     "name": "stderr",
     "output_type": "stream",
     "text": [
      "100%|███████████████████████████████████████| 102/102 [00:00<00:00, 1381.48it/s]\n",
      "100%|█████████████████████████████████████████| 44/44 [00:00<00:00, 1748.11it/s]\n",
      "2023-08-14 18:15:48,580 - __main__ - INFO - started preprocessing rows\n"
     ]
    },
    {
     "name": "stdout",
     "output_type": "stream",
     "text": [
      "Reading twitter - 1grams ...\n",
      "Reading twitter - 2grams ...\n"
     ]
    },
    {
     "name": "stderr",
     "output_type": "stream",
     "text": [
      "/var/folders/4k/87j4hn2j03n09bmstrxm08bc0000gp/T/ipykernel_23322/1541612091.py:111: SettingWithCopyWarning: \n",
      "A value is trying to be set on a copy of a slice from a DataFrame.\n",
      "Try using .loc[row_indexer,col_indexer] = value instead\n",
      "\n",
      "See the caveats in the documentation: https://pandas.pydata.org/pandas-docs/stable/user_guide/indexing.html#returning-a-view-versus-a-copy\n",
      "  labeled_df['Labels'] = labels\n",
      "/var/folders/4k/87j4hn2j03n09bmstrxm08bc0000gp/T/ipykernel_23322/1541612091.py:112: SettingWithCopyWarning: \n",
      "A value is trying to be set on a copy of a slice from a DataFrame.\n",
      "Try using .loc[row_indexer,col_indexer] = value instead\n",
      "\n",
      "See the caveats in the documentation: https://pandas.pydata.org/pandas-docs/stable/user_guide/indexing.html#returning-a-view-versus-a-copy\n",
      "  labeled_df[\"label\"] = labeled_df['Labels'].map(label2int).tolist()\n"
     ]
    },
    {
     "name": "stdout",
     "output_type": "stream",
     "text": [
      "Reading twitter - 1grams ...\n"
     ]
    },
    {
     "name": "stderr",
     "output_type": "stream",
     "text": [
      "100%|██████████████████████████████████████████| 77/77 [00:00<00:00, 222.54it/s]\n",
      "100%|██████████████████████████████████████████| 33/33 [00:00<00:00, 978.09it/s]\n",
      "2023-08-14 18:15:51,072 - __main__ - INFO - started preprocessing rows\n",
      "/var/folders/4k/87j4hn2j03n09bmstrxm08bc0000gp/T/ipykernel_23322/1541612091.py:111: SettingWithCopyWarning: \n",
      "A value is trying to be set on a copy of a slice from a DataFrame.\n",
      "Try using .loc[row_indexer,col_indexer] = value instead\n",
      "\n",
      "See the caveats in the documentation: https://pandas.pydata.org/pandas-docs/stable/user_guide/indexing.html#returning-a-view-versus-a-copy\n",
      "  labeled_df['Labels'] = labels\n",
      "/var/folders/4k/87j4hn2j03n09bmstrxm08bc0000gp/T/ipykernel_23322/1541612091.py:112: SettingWithCopyWarning: \n",
      "A value is trying to be set on a copy of a slice from a DataFrame.\n",
      "Try using .loc[row_indexer,col_indexer] = value instead\n",
      "\n",
      "See the caveats in the documentation: https://pandas.pydata.org/pandas-docs/stable/user_guide/indexing.html#returning-a-view-versus-a-copy\n",
      "  labeled_df[\"label\"] = labeled_df['Labels'].map(label2int).tolist()\n"
     ]
    },
    {
     "name": "stdout",
     "output_type": "stream",
     "text": [
      "Reading twitter - 1grams ...\n",
      "Reading twitter - 2grams ...\n",
      "Reading twitter - 1grams ...\n"
     ]
    },
    {
     "name": "stderr",
     "output_type": "stream",
     "text": [
      "100%|█████████████████████████████████████████| 83/83 [00:00<00:00, 1437.08it/s]\n",
      "100%|█████████████████████████████████████████| 26/26 [00:00<00:00, 1447.00it/s]\n",
      "2023-08-14 18:15:53,504 - __main__ - INFO - started preprocessing rows\n"
     ]
    },
    {
     "name": "stdout",
     "output_type": "stream",
     "text": [
      "Reading twitter - 1grams ...\n",
      "Reading twitter - 2grams ...\n"
     ]
    },
    {
     "name": "stderr",
     "output_type": "stream",
     "text": [
      "/var/folders/4k/87j4hn2j03n09bmstrxm08bc0000gp/T/ipykernel_23322/1541612091.py:111: SettingWithCopyWarning: \n",
      "A value is trying to be set on a copy of a slice from a DataFrame.\n",
      "Try using .loc[row_indexer,col_indexer] = value instead\n",
      "\n",
      "See the caveats in the documentation: https://pandas.pydata.org/pandas-docs/stable/user_guide/indexing.html#returning-a-view-versus-a-copy\n",
      "  labeled_df['Labels'] = labels\n",
      "/var/folders/4k/87j4hn2j03n09bmstrxm08bc0000gp/T/ipykernel_23322/1541612091.py:112: SettingWithCopyWarning: \n",
      "A value is trying to be set on a copy of a slice from a DataFrame.\n",
      "Try using .loc[row_indexer,col_indexer] = value instead\n",
      "\n",
      "See the caveats in the documentation: https://pandas.pydata.org/pandas-docs/stable/user_guide/indexing.html#returning-a-view-versus-a-copy\n",
      "  labeled_df[\"label\"] = labeled_df['Labels'].map(label2int).tolist()\n"
     ]
    },
    {
     "name": "stdout",
     "output_type": "stream",
     "text": [
      "Reading twitter - 1grams ...\n"
     ]
    },
    {
     "name": "stderr",
     "output_type": "stream",
     "text": [
      "100%|█████████████████████████████████████████| 78/78 [00:00<00:00, 1381.02it/s]\n",
      "100%|█████████████████████████████████████████| 59/59 [00:00<00:00, 1084.26it/s]\n",
      "2023-08-14 18:15:55,782 - __main__ - INFO - started preprocessing rows\n"
     ]
    },
    {
     "name": "stdout",
     "output_type": "stream",
     "text": [
      "Reading twitter - 1grams ...\n",
      "Reading twitter - 2grams ...\n"
     ]
    },
    {
     "name": "stderr",
     "output_type": "stream",
     "text": [
      "/var/folders/4k/87j4hn2j03n09bmstrxm08bc0000gp/T/ipykernel_23322/1541612091.py:111: SettingWithCopyWarning: \n",
      "A value is trying to be set on a copy of a slice from a DataFrame.\n",
      "Try using .loc[row_indexer,col_indexer] = value instead\n",
      "\n",
      "See the caveats in the documentation: https://pandas.pydata.org/pandas-docs/stable/user_guide/indexing.html#returning-a-view-versus-a-copy\n",
      "  labeled_df['Labels'] = labels\n",
      "/var/folders/4k/87j4hn2j03n09bmstrxm08bc0000gp/T/ipykernel_23322/1541612091.py:112: SettingWithCopyWarning: \n",
      "A value is trying to be set on a copy of a slice from a DataFrame.\n",
      "Try using .loc[row_indexer,col_indexer] = value instead\n",
      "\n",
      "See the caveats in the documentation: https://pandas.pydata.org/pandas-docs/stable/user_guide/indexing.html#returning-a-view-versus-a-copy\n",
      "  labeled_df[\"label\"] = labeled_df['Labels'].map(label2int).tolist()\n"
     ]
    },
    {
     "name": "stdout",
     "output_type": "stream",
     "text": [
      "Reading twitter - 1grams ...\n"
     ]
    },
    {
     "name": "stderr",
     "output_type": "stream",
     "text": [
      "100%|███████████████████████████████████████| 709/709 [00:00<00:00, 1045.53it/s]\n",
      "100%|███████████████████████████████████████| 687/687 [00:00<00:00, 1019.30it/s]\n",
      "2023-08-14 18:15:59,268 - __main__ - INFO - started preprocessing rows\n",
      "/var/folders/4k/87j4hn2j03n09bmstrxm08bc0000gp/T/ipykernel_23322/1541612091.py:111: SettingWithCopyWarning: \n",
      "A value is trying to be set on a copy of a slice from a DataFrame.\n",
      "Try using .loc[row_indexer,col_indexer] = value instead\n",
      "\n",
      "See the caveats in the documentation: https://pandas.pydata.org/pandas-docs/stable/user_guide/indexing.html#returning-a-view-versus-a-copy\n",
      "  labeled_df['Labels'] = labels\n",
      "/var/folders/4k/87j4hn2j03n09bmstrxm08bc0000gp/T/ipykernel_23322/1541612091.py:112: SettingWithCopyWarning: \n",
      "A value is trying to be set on a copy of a slice from a DataFrame.\n",
      "Try using .loc[row_indexer,col_indexer] = value instead\n",
      "\n",
      "See the caveats in the documentation: https://pandas.pydata.org/pandas-docs/stable/user_guide/indexing.html#returning-a-view-versus-a-copy\n",
      "  labeled_df[\"label\"] = labeled_df['Labels'].map(label2int).tolist()\n"
     ]
    },
    {
     "name": "stdout",
     "output_type": "stream",
     "text": [
      "Reading twitter - 1grams ...\n",
      "Reading twitter - 2grams ...\n",
      "Reading twitter - 1grams ...\n"
     ]
    },
    {
     "name": "stderr",
     "output_type": "stream",
     "text": [
      "100%|█████████████████████████████████████████| 51/51 [00:00<00:00, 1547.11it/s]\n",
      "100%|██████████████████████████████████████████| 37/37 [00:00<00:00, 948.98it/s]\n",
      "2023-08-14 18:16:01,531 - __main__ - INFO - started preprocessing rows\n"
     ]
    },
    {
     "name": "stdout",
     "output_type": "stream",
     "text": [
      "Reading twitter - 1grams ...\n",
      "Reading twitter - 2grams ...\n"
     ]
    },
    {
     "name": "stderr",
     "output_type": "stream",
     "text": [
      "/var/folders/4k/87j4hn2j03n09bmstrxm08bc0000gp/T/ipykernel_23322/1541612091.py:111: SettingWithCopyWarning: \n",
      "A value is trying to be set on a copy of a slice from a DataFrame.\n",
      "Try using .loc[row_indexer,col_indexer] = value instead\n",
      "\n",
      "See the caveats in the documentation: https://pandas.pydata.org/pandas-docs/stable/user_guide/indexing.html#returning-a-view-versus-a-copy\n",
      "  labeled_df['Labels'] = labels\n",
      "/var/folders/4k/87j4hn2j03n09bmstrxm08bc0000gp/T/ipykernel_23322/1541612091.py:112: SettingWithCopyWarning: \n",
      "A value is trying to be set on a copy of a slice from a DataFrame.\n",
      "Try using .loc[row_indexer,col_indexer] = value instead\n",
      "\n",
      "See the caveats in the documentation: https://pandas.pydata.org/pandas-docs/stable/user_guide/indexing.html#returning-a-view-versus-a-copy\n",
      "  labeled_df[\"label\"] = labeled_df['Labels'].map(label2int).tolist()\n"
     ]
    },
    {
     "name": "stdout",
     "output_type": "stream",
     "text": [
      "Reading twitter - 1grams ...\n"
     ]
    },
    {
     "name": "stderr",
     "output_type": "stream",
     "text": [
      "100%|███████████████████████████████████████| 276/276 [00:00<00:00, 1158.47it/s]\n",
      "100%|████████████████████████████████████████| 124/124 [00:00<00:00, 923.60it/s]\n",
      "2023-08-14 18:16:04,149 - __main__ - INFO - started preprocessing rows\n",
      "/var/folders/4k/87j4hn2j03n09bmstrxm08bc0000gp/T/ipykernel_23322/1541612091.py:111: SettingWithCopyWarning: \n",
      "A value is trying to be set on a copy of a slice from a DataFrame.\n",
      "Try using .loc[row_indexer,col_indexer] = value instead\n",
      "\n",
      "See the caveats in the documentation: https://pandas.pydata.org/pandas-docs/stable/user_guide/indexing.html#returning-a-view-versus-a-copy\n",
      "  labeled_df['Labels'] = labels\n",
      "/var/folders/4k/87j4hn2j03n09bmstrxm08bc0000gp/T/ipykernel_23322/1541612091.py:112: SettingWithCopyWarning: \n",
      "A value is trying to be set on a copy of a slice from a DataFrame.\n",
      "Try using .loc[row_indexer,col_indexer] = value instead\n",
      "\n",
      "See the caveats in the documentation: https://pandas.pydata.org/pandas-docs/stable/user_guide/indexing.html#returning-a-view-versus-a-copy\n",
      "  labeled_df[\"label\"] = labeled_df['Labels'].map(label2int).tolist()\n"
     ]
    },
    {
     "name": "stdout",
     "output_type": "stream",
     "text": [
      "Reading twitter - 1grams ...\n",
      "Reading twitter - 2grams ...\n",
      "Reading twitter - 1grams ...\n"
     ]
    },
    {
     "name": "stderr",
     "output_type": "stream",
     "text": [
      "100%|█████████████████████████████████████████| 44/44 [00:00<00:00, 1011.38it/s]\n",
      "100%|█████████████████████████████████████████| 37/37 [00:00<00:00, 1481.01it/s]\n",
      "2023-08-14 18:16:06,418 - __main__ - INFO - started preprocessing rows\n"
     ]
    },
    {
     "name": "stdout",
     "output_type": "stream",
     "text": [
      "Reading twitter - 1grams ...\n",
      "Reading twitter - 2grams ...\n"
     ]
    },
    {
     "name": "stderr",
     "output_type": "stream",
     "text": [
      "/var/folders/4k/87j4hn2j03n09bmstrxm08bc0000gp/T/ipykernel_23322/1541612091.py:111: SettingWithCopyWarning: \n",
      "A value is trying to be set on a copy of a slice from a DataFrame.\n",
      "Try using .loc[row_indexer,col_indexer] = value instead\n",
      "\n",
      "See the caveats in the documentation: https://pandas.pydata.org/pandas-docs/stable/user_guide/indexing.html#returning-a-view-versus-a-copy\n",
      "  labeled_df['Labels'] = labels\n",
      "/var/folders/4k/87j4hn2j03n09bmstrxm08bc0000gp/T/ipykernel_23322/1541612091.py:112: SettingWithCopyWarning: \n",
      "A value is trying to be set on a copy of a slice from a DataFrame.\n",
      "Try using .loc[row_indexer,col_indexer] = value instead\n",
      "\n",
      "See the caveats in the documentation: https://pandas.pydata.org/pandas-docs/stable/user_guide/indexing.html#returning-a-view-versus-a-copy\n",
      "  labeled_df[\"label\"] = labeled_df['Labels'].map(label2int).tolist()\n"
     ]
    },
    {
     "name": "stdout",
     "output_type": "stream",
     "text": [
      "Reading twitter - 1grams ...\n"
     ]
    },
    {
     "name": "stderr",
     "output_type": "stream",
     "text": [
      "100%|███████████████████████████████████████| 121/121 [00:00<00:00, 1259.88it/s]\n",
      "100%|█████████████████████████████████████████| 83/83 [00:00<00:00, 1501.44it/s]\n",
      "2023-08-14 18:16:08,831 - __main__ - INFO - started preprocessing rows\n"
     ]
    },
    {
     "name": "stdout",
     "output_type": "stream",
     "text": [
      "Reading twitter - 1grams ...\n",
      "Reading twitter - 2grams ...\n",
      "Reading twitter - 1grams ...\n"
     ]
    },
    {
     "name": "stderr",
     "output_type": "stream",
     "text": [
      "0it [00:00, ?it/s]\n",
      "100%|███████████████████████████████████████████| 2/2 [00:00<00:00, 3930.93it/s]\n"
     ]
    }
   ],
   "source": [
    "log_fmt = '%(asctime)s - %(name)s - %(levelname)s - %(message)s'\n",
    "logging.basicConfig(level=logging.INFO, format=log_fmt)\n",
    "\n",
    "logger = logging.getLogger(__name__)\n",
    "logger.info('making final data set from raw data')\n",
    "\n",
    "\n",
    "\n",
    "preprocess_raw(test_dir, './data')\n",
    "\n",
    "\n",
    "\n"
   ]
  },
  {
   "cell_type": "code",
   "execution_count": null,
   "id": "134009d3",
   "metadata": {},
   "outputs": [],
   "source": [
    "# About 60 with multiple labels"
   ]
  },
  {
   "cell_type": "code",
   "execution_count": 90,
   "id": "ed93ebb1",
   "metadata": {},
   "outputs": [],
   "source": [
    "data = pd.read_csv('./data/nasa#LC.csv')"
   ]
  },
  {
   "cell_type": "code",
   "execution_count": 91,
   "id": "8203f798",
   "metadata": {},
   "outputs": [
    {
     "data": {
      "text/plain": [
       "'fix # <number> , refactor <code> to remove multiple returns <section> - fixes # <number> - simple refactor removes multiple returns from <code> <section> github ci actions all passing successfully ( incl . build + run , unit / coverage tests etc . ) . <section> no change to logic / behavior <section> avi weiss <user>'"
      ]
     },
     "execution_count": 91,
     "metadata": {},
     "output_type": "execute_result"
    }
   ],
   "source": [
    "data['text'][0]"
   ]
  },
  {
   "cell_type": "code",
   "execution_count": 5,
   "id": "714520b6",
   "metadata": {},
   "outputs": [],
   "source": [
    "data1 = pd.read_csv('/Users/jchang15/scrape_issues/issues/nasa#LC.csv')"
   ]
  },
  {
   "cell_type": "code",
   "execution_count": 99,
   "id": "e6437530",
   "metadata": {},
   "outputs": [
    {
     "name": "stdout",
     "output_type": "stream",
     "text": [
      "Add break; for switch default case in LC_VerifyMsgLength()\n",
      "**Checklist**\r\n",
      "* [x] I reviewed the [Contributing Guide](https://github.com/nasa/cFS/blob/main/CONTRIBUTING.md).\r\n",
      "* [x] I performed a cursory search to see if the bug report is relevant, not redundant, nor in conflict with other tickets.\r\n",
      "\r\n",
      "**Describe the bug**\r\n",
      "`default` case of the `switch` block in `LC_VerifyMsgLength()` is missing a `break;`.\r\n",
      "Purely a style/guidelines issue for consistency and future maintenance.\r\n",
      "\r\n",
      "**Code snips**\r\n",
      "https://github.com/nasa/LC/blob/2f177ae83a24445d6ab6997682a2ffa71dacbd31/fsw/src/lc_utils.c#L83-L92\r\n",
      "\r\n",
      "**Expected behavior**\r\n",
      "All switch cases (including `default`) should be terminated by an unconditional `break` statement.\r\n",
      "\r\n",
      "**Reporter Info**\r\n",
      "Avi Weiss @thnkslprpt\n",
      " \n",
      "add break ; for switch default case in lc_verifymsglength ( ) <section> <code> case of the <code> block in <code> is missing a <code> . purely a style / guidelines issue for consistency and future maintenance . <section> <url> <section> all switch cases ( including <code> ) should be terminated by an unconditional <code> statement . <section> avi weiss <user>\n"
     ]
    }
   ],
   "source": [
    "i=17\n",
    "print(data1['Title'].iloc[i] + '\\n' + data1['Body'].iloc[i] + '\\n \\n' + data['text'].iloc[i])"
   ]
  },
  {
   "cell_type": "code",
   "execution_count": null,
   "id": "65e5ad54",
   "metadata": {},
   "outputs": [],
   "source": []
  }
 ],
 "metadata": {
  "kernelspec": {
   "display_name": "Python 3 (ipykernel)",
   "language": "python",
   "name": "python3"
  },
  "language_info": {
   "codemirror_mode": {
    "name": "ipython",
    "version": 3
   },
   "file_extension": ".py",
   "mimetype": "text/x-python",
   "name": "python",
   "nbconvert_exporter": "python",
   "pygments_lexer": "ipython3",
   "version": "3.10.11"
  }
 },
 "nbformat": 4,
 "nbformat_minor": 5
}
